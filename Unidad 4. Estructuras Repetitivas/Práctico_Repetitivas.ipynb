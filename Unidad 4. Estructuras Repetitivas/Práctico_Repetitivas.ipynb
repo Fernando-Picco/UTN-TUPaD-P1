{
 "cells": [
  {
   "cell_type": "markdown",
   "id": "ee8bc846",
   "metadata": {},
   "source": [
    "<h2>\n",
    "<font color=\"#032766\">\n",
    "<b>\n",
    "PROGRAMACIÓN 1\n",
    "</b>\n",
    "</font>\n",
    "</h2>\n",
    "\n",
    "\n",
    "<h3>\n",
    "<font color=\"#032766\">\n",
    "<b>\n",
    "Trabajo práctico 4: Estructuras Repetitivas  \n",
    "</b>\n",
    "</font>\n",
    "</h3>"
   ]
  },
  {
   "cell_type": "markdown",
   "id": "f3cc17b5",
   "metadata": {},
   "source": [
    "Ejercicio 1\n",
    "\n",
    "Crea un programa que imprima en pantalla todos los números enteros desde 0 hasta 100\n",
    "(incluyendo ambos extremos), en orden creciente, mostrando un número por línea."
   ]
  },
  {
   "cell_type": "code",
   "execution_count": null,
   "id": "c6ca751f",
   "metadata": {},
   "outputs": [],
   "source": [
    "for x in range(101):\n",
    "    print(x)"
   ]
  },
  {
   "cell_type": "markdown",
   "id": "d7d89209",
   "metadata": {},
   "source": [
    "Ejercicio 2\n",
    "\n",
    "Desarrolla un programa que solicite al usuario un número entero y determine la cantidad de\n",
    "dígitos que contiene."
   ]
  },
  {
   "cell_type": "code",
   "execution_count": null,
   "id": "517ad0b4",
   "metadata": {},
   "outputs": [
    {
     "name": "stdout",
     "output_type": "stream",
     "text": [
      "El 345 tiene 3 dígito/s\n"
     ]
    }
   ],
   "source": [
    "# creamos la variable \"cantidad_digitos\"\n",
    "cantidad_digitos = 0\n",
    "\n",
    "# Solicitamos al usuario que ingrese un número entero\n",
    "numero = int(input(\"Ingrese un número entero: \"))\n",
    "\n",
    "# Si el usuario ingresa un número negativo:\n",
    "n = abs(numero)\n",
    "\n",
    "if n == 0:\n",
    "    cantidad_digitos = 1\n",
    "else:\n",
    "    cantidad_digitos = 0\n",
    "\n",
    "while n > 0:\n",
    "    n = n // 10\n",
    "    cantidad_digitos += 1\n",
    "print(f\"El {numero} tiene {cantidad_digitos} dígito/s\")\n",
    "    "
   ]
  },
  {
   "cell_type": "markdown",
   "id": "63f5d4e7",
   "metadata": {},
   "source": [
    "Ejercicio 3\n",
    "\n",
    "Escribe un programa que sume todos los números enteros comprendidos entre dos valores\n",
    "dados por el usuario, excluyendo esos dos valores."
   ]
  },
  {
   "cell_type": "code",
   "execution_count": 6,
   "id": "29d95b6a",
   "metadata": {},
   "outputs": [
    {
     "name": "stdout",
     "output_type": "stream",
     "text": [
      "La suma de los nros. comprendidos entre -1 y 4 es 6\n"
     ]
    }
   ],
   "source": [
    "# declaramos la variable suma\n",
    "suma = 0\n",
    "\n",
    "# solicitamos al usuario que ingrese dos valores\n",
    "numero_uno = int(input(\"Ingrese un número: \"))\n",
    "numero_dos = int(input(\"Ingrese otro: \"))\n",
    "\n",
    "# Si el primer nro. ingresado es mayor al segundo, creamos una variable auxiliar para invertirlos\n",
    "if numero_uno > numero_dos:\n",
    "    aux = numero_uno\n",
    "    numero_uno = numero_dos\n",
    "    numero_dos = aux\n",
    "\n",
    "for nEnt in range(numero_uno + 1, (numero_dos + 1) - 1):\n",
    "    suma = suma + nEnt\n",
    "\n",
    "print(f\"La suma de los nros. comprendidos entre {numero_uno} y {numero_dos} es {suma}\")\n",
    "\n",
    "\n",
    "\n",
    "\n"
   ]
  },
  {
   "cell_type": "markdown",
   "id": "b9cb2fa4",
   "metadata": {},
   "source": [
    "Ejercicio 4\n",
    "\n",
    "Elabora un programa que permita al usuario ingresar números enteros y los sume en\n",
    "secuencia. El programa debe detenerse y mostrar el total acumulado cuando el usuario ingrese\n",
    "un 0."
   ]
  },
  {
   "cell_type": "code",
   "execution_count": 6,
   "id": "ebacc457",
   "metadata": {},
   "outputs": [
    {
     "name": "stdout",
     "output_type": "stream",
     "text": [
      "Ingrese cero para visualizar la suma de los nros. ingresados\n",
      "Ingrese cero para visualizar la suma de los nros. ingresados\n",
      "Ingrese cero para visualizar la suma de los nros. ingresados\n",
      "La suma de los números ingresados es: 4\n"
     ]
    }
   ],
   "source": [
    "# declaramos la variable suma\n",
    "suma = 0\n",
    "\n",
    "# solicitamos al usuario que ingrese los números\n",
    "numero = int(input(\"Ingrese un número: \"))\n",
    "print(\"Ingrese cero para visualizar la suma de los nros. ingresados\")\n",
    "\n",
    "while numero != 0:\n",
    "    suma += numero\n",
    "\n",
    "    numero = int(input(\"Ingrese un número: \"))\n",
    "    print(\"Ingrese cero para visualizar la suma de los nros. ingresados\")\n",
    "\n",
    "print(\"La suma de los números ingresados es:\",suma)\n",
    "\n",
    "\n"
   ]
  },
  {
   "cell_type": "markdown",
   "id": "5b8cc983",
   "metadata": {},
   "source": [
    "Ejercicio 5\n",
    "\n",
    "Crea un juego en el que el usuario deba adivinar un número aleatorio entre 0 y 9. Al final, el\n",
    "programa debe mostrar cuántos intentos fueron necesarios para acertar el número."
   ]
  },
  {
   "cell_type": "code",
   "execution_count": null,
   "id": "ba471f63",
   "metadata": {},
   "outputs": [],
   "source": [
    "# Importamos el módulo que contiene funciones para generar números aleatorios\n",
    "import random\n",
    "\n",
    "# declaramos la variable nros. aleatorios\n",
    "numeros_aleatorios = random.randint(0, 9)\n",
    "\n",
    "# declaramos la variable nro. de intentos\n",
    "cant_intentos = 1\n",
    "\n",
    "# solicitamos al usuario que ingrese números\n",
    "numero = int(input(\"Ingrese un nro (entre 0 y 9): \"))\n",
    "\n",
    "while numero != numeros_aleatorios:\n",
    "    cant_intentos += 1\n",
    "\n",
    "    if numero < numeros_aleatorios:\n",
    "        print(\"Muy bajo! Intenta un nro. más alto\")\n",
    "    elif numero > numeros_aleatorios:\n",
    "        print(\"Muy alto! Intenta un nro. más bajo\")\n",
    "    \n",
    "    numero = int(input(\"Ingrese un nro (entre 0 y 9): \"))\n",
    "\n",
    "print(\"¡Acertaste!, el nro. aleatorio es\", numeros_aleatorios)\n",
    "print(\"Para lograrlo, tuviste que ingresar la cantidad de \",cant_intentos,\" nros.\")\n",
    "\n"
   ]
  },
  {
   "cell_type": "markdown",
   "id": "33de50bc",
   "metadata": {},
   "source": [
    "Ejercicio 6\n",
    "\n",
    "Desarrolla un programa que imprima en pantalla todos los números pares comprendidos\n",
    "entre 0 y 100, en orden decreciente."
   ]
  },
  {
   "cell_type": "code",
   "execution_count": null,
   "id": "cedc67ca",
   "metadata": {},
   "outputs": [],
   "source": [
    "for x in range(100, -2, -2):\n",
    "    print(x)"
   ]
  },
  {
   "cell_type": "markdown",
   "id": "42399dc1",
   "metadata": {},
   "source": [
    "Ejercicio 7\n",
    "\n",
    "Crea un programa que calcule la suma de todos los números comprendidos entre 0 y un\n",
    "número entero positivo indicado por el usuario."
   ]
  },
  {
   "cell_type": "code",
   "execution_count": 10,
   "id": "d0c30200",
   "metadata": {},
   "outputs": [
    {
     "name": "stdout",
     "output_type": "stream",
     "text": [
      "El nro. ingresado no es positivo\n",
      "La suma de los nros. entre 0 y 8 es 28\n"
     ]
    }
   ],
   "source": [
    "#declaramos la variable suma\n",
    "suma = 0\n",
    "\n",
    "# solicitamos al usuario que ingrese un número\n",
    "numero = int(input(\"Ingrese un nro. mayor a cero: \"))\n",
    "\n",
    "while numero <= 0:\n",
    "    numero = int(input(\"Ingrese un nro. mayor a cero: \"))\n",
    "    if numero < 0:\n",
    "        print(\"El nro. ingresado no es positivo\")\n",
    "\n",
    "if numero > 0:\n",
    "    for x in range(0+1, (numero+1)-1):\n",
    "        suma += x\n",
    "    \n",
    "    print(\"La suma de los nros. entre 0 y\", numero,\"es\",suma)\n",
    "\n",
    "\n",
    "\n"
   ]
  }
 ],
 "metadata": {
  "kernelspec": {
   "display_name": "Python 3",
   "language": "python",
   "name": "python3"
  },
  "language_info": {
   "codemirror_mode": {
    "name": "ipython",
    "version": 3
   },
   "file_extension": ".py",
   "mimetype": "text/x-python",
   "name": "python",
   "nbconvert_exporter": "python",
   "pygments_lexer": "ipython3",
   "version": "3.13.5"
  }
 },
 "nbformat": 4,
 "nbformat_minor": 5
}
