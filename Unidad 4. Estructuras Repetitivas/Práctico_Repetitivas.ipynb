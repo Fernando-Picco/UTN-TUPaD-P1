{
 "cells": [
  {
   "cell_type": "markdown",
   "id": "ee8bc846",
   "metadata": {},
   "source": [
    "<h2>\n",
    "<font color=\"#032766\">\n",
    "<b>\n",
    "PROGRAMACIÓN 1\n",
    "</b>\n",
    "</font>\n",
    "</h2>\n",
    "\n",
    "\n",
    "<h3>\n",
    "<font color=\"#032766\">\n",
    "<b>\n",
    "Trabajo práctico 4: Estructuras Repetitivas  \n",
    "</b>\n",
    "</font>\n",
    "</h3>"
   ]
  },
  {
   "cell_type": "markdown",
   "id": "f3cc17b5",
   "metadata": {},
   "source": [
    "Ejercicio 1\n",
    "\n",
    "Crea un programa que imprima en pantalla todos los números enteros desde 0 hasta 100\n",
    "(incluyendo ambos extremos), en orden creciente, mostrando un número por línea."
   ]
  },
  {
   "cell_type": "code",
   "execution_count": null,
   "id": "c6ca751f",
   "metadata": {},
   "outputs": [],
   "source": [
    "for x in range(101):\n",
    "    print(x)"
   ]
  }
 ],
 "metadata": {
  "language_info": {
   "name": "python"
  }
 },
 "nbformat": 4,
 "nbformat_minor": 5
}
