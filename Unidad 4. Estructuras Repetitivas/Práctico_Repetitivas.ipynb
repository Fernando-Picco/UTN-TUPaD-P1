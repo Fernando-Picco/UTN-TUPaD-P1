{
 "cells": [
  {
   "cell_type": "markdown",
   "id": "ee8bc846",
   "metadata": {},
   "source": [
    "<h2>\n",
    "<font color=\"#032766\">\n",
    "<b>\n",
    "PROGRAMACIÓN 1\n",
    "</b>\n",
    "</font>\n",
    "</h2>\n",
    "\n",
    "\n",
    "<h3>\n",
    "<font color=\"#032766\">\n",
    "<b>\n",
    "Trabajo práctico 4: Estructuras Repetitivas  \n",
    "</b>\n",
    "</font>\n",
    "</h3>"
   ]
  },
  {
   "cell_type": "markdown",
   "id": "f3cc17b5",
   "metadata": {},
   "source": [
    "Ejercicio 1\n",
    "\n",
    "Crea un programa que imprima en pantalla todos los números enteros desde 0 hasta 100\n",
    "(incluyendo ambos extremos), en orden creciente, mostrando un número por línea."
   ]
  },
  {
   "cell_type": "code",
   "execution_count": null,
   "id": "c6ca751f",
   "metadata": {},
   "outputs": [],
   "source": [
    "for x in range(101):\n",
    "    print(x)"
   ]
  },
  {
   "cell_type": "markdown",
   "id": "d7d89209",
   "metadata": {},
   "source": [
    "Ejercicio 2\n",
    "\n",
    "Desarrolla un programa que solicite al usuario un número entero y determine la cantidad de\n",
    "dígitos que contiene."
   ]
  },
  {
   "cell_type": "code",
   "execution_count": null,
   "id": "517ad0b4",
   "metadata": {},
   "outputs": [],
   "source": [
    "# creamos la variable \"cantidad_digitos\"\n",
    "cantidad_digitos = 0\n",
    "\n",
    "# Solicitamos al usuario que ingrese un número entero\n",
    "numero = int(input(\"Ingrese un número entero: \"))\n",
    "\n",
    "# Si por error el usuario ingresa un número negativo:\n",
    "n = abs(numero)\n",
    "\n",
    "if n == 0:\n",
    "    cantidad_digitos = 1\n",
    "else:\n",
    "    cantidad_digitos = 0\n",
    "\n",
    "while n > 0:\n",
    "    n = n // 10\n",
    "    cantidad_digitos += 1\n",
    "print(f\"El {numero} tiene {cantidad_digitos} dígito/s\")\n",
    "    "
   ]
  }
 ],
 "metadata": {
  "kernelspec": {
   "display_name": "Python 3",
   "language": "python",
   "name": "python3"
  },
  "language_info": {
   "codemirror_mode": {
    "name": "ipython",
    "version": 3
   },
   "file_extension": ".py",
   "mimetype": "text/x-python",
   "name": "python",
   "nbconvert_exporter": "python",
   "pygments_lexer": "ipython3",
   "version": "3.13.5"
  }
 },
 "nbformat": 4,
 "nbformat_minor": 5
}
