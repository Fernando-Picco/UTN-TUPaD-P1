{
 "cells": [
  {
   "cell_type": "markdown",
   "id": "ee8bc846",
   "metadata": {},
   "source": [
    "<h2>\n",
    "<font color=\"#032766\">\n",
    "<b>\n",
    "PROGRAMACIÓN 1\n",
    "</b>\n",
    "</font>\n",
    "</h2>\n",
    "\n",
    "\n",
    "<h3>\n",
    "<font color=\"#032766\">\n",
    "<b>\n",
    "Trabajo práctico 4: Estructuras Repetitivas  \n",
    "</b>\n",
    "</font>\n",
    "</h3>"
   ]
  },
  {
   "cell_type": "markdown",
   "id": "f3cc17b5",
   "metadata": {},
   "source": [
    "Ejercicio 1\n",
    "\n",
    "Crea un programa que imprima en pantalla todos los números enteros desde 0 hasta 100\n",
    "(incluyendo ambos extremos), en orden creciente, mostrando un número por línea."
   ]
  },
  {
   "cell_type": "code",
   "execution_count": null,
   "id": "c6ca751f",
   "metadata": {},
   "outputs": [],
   "source": [
    "for x in range(101):\n",
    "    print(x)"
   ]
  },
  {
   "cell_type": "markdown",
   "id": "d7d89209",
   "metadata": {},
   "source": [
    "Ejercicio 2\n",
    "\n",
    "Desarrolla un programa que solicite al usuario un número entero y determine la cantidad de\n",
    "dígitos que contiene."
   ]
  },
  {
   "cell_type": "code",
   "execution_count": null,
   "id": "517ad0b4",
   "metadata": {},
   "outputs": [
    {
     "name": "stdout",
     "output_type": "stream",
     "text": [
      "El 345 tiene 3 dígito/s\n"
     ]
    }
   ],
   "source": [
    "# creamos la variable \"cantidad_digitos\"\n",
    "cantidad_digitos = 0\n",
    "\n",
    "# Solicitamos al usuario que ingrese un número entero\n",
    "numero = int(input(\"Ingrese un número entero: \"))\n",
    "\n",
    "# Si el usuario ingresa un número negativo:\n",
    "n = abs(numero)\n",
    "\n",
    "if n == 0:\n",
    "    cantidad_digitos = 1\n",
    "else:\n",
    "    cantidad_digitos = 0\n",
    "\n",
    "while n > 0:\n",
    "    n = n // 10\n",
    "    cantidad_digitos += 1\n",
    "print(f\"El {numero} tiene {cantidad_digitos} dígito/s\")\n",
    "    "
   ]
  },
  {
   "cell_type": "markdown",
   "id": "63f5d4e7",
   "metadata": {},
   "source": [
    "Ejercicio 3\n",
    "\n",
    "Escribe un programa que sume todos los números enteros comprendidos entre dos valores\n",
    "dados por el usuario, excluyendo esos dos valores."
   ]
  },
  {
   "cell_type": "code",
   "execution_count": 6,
   "id": "29d95b6a",
   "metadata": {},
   "outputs": [
    {
     "name": "stdout",
     "output_type": "stream",
     "text": [
      "La suma de los nros. comprendidos entre -1 y 4 es 6\n"
     ]
    }
   ],
   "source": [
    "# declaramos la variable suma\n",
    "suma = 0\n",
    "\n",
    "# solicitamos al usuario que ingrese dos valores\n",
    "numero_uno = int(input(\"Ingrese un número: \"))\n",
    "numero_dos = int(input(\"Ingrese otro: \"))\n",
    "\n",
    "# Si el primer nro. ingresado es mayor al segundo, creamos una variable auxiliar para invertirlos\n",
    "if numero_uno > numero_dos:\n",
    "    aux = numero_uno\n",
    "    numero_uno = numero_dos\n",
    "    numero_dos = aux\n",
    "\n",
    "for nEnt in range(numero_uno + 1, (numero_dos + 1) - 1):\n",
    "    suma = suma + nEnt\n",
    "\n",
    "print(f\"La suma de los nros. comprendidos entre {numero_uno} y {numero_dos} es {suma}\")\n",
    "\n",
    "\n",
    "\n",
    "\n"
   ]
  }
 ],
 "metadata": {
  "kernelspec": {
   "display_name": "Python 3",
   "language": "python",
   "name": "python3"
  },
  "language_info": {
   "codemirror_mode": {
    "name": "ipython",
    "version": 3
   },
   "file_extension": ".py",
   "mimetype": "text/x-python",
   "name": "python",
   "nbconvert_exporter": "python",
   "pygments_lexer": "ipython3",
   "version": "3.13.5"
  }
 },
 "nbformat": 4,
 "nbformat_minor": 5
}
