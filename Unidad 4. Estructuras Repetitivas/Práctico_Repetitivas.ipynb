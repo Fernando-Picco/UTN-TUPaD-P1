{
 "cells": [
  {
   "cell_type": "markdown",
   "id": "ee8bc846",
   "metadata": {},
   "source": [
    "<h2>\n",
    "<font color=\"#032766\">\n",
    "<b>\n",
    "PROGRAMACIÓN 1\n",
    "</b>\n",
    "</font>\n",
    "</h2>\n",
    "\n",
    "\n",
    "<h3>\n",
    "<font color=\"#032766\">\n",
    "<b>\n",
    "Trabajo práctico 4: Estructuras Repetitivas  \n",
    "</b>\n",
    "</font>\n",
    "</h3>"
   ]
  },
  {
   "cell_type": "markdown",
   "id": "f3cc17b5",
   "metadata": {},
   "source": [
    "Ejercicio 1\n",
    "\n",
    "Crea un programa que imprima en pantalla todos los números enteros desde 0 hasta 100\n",
    "(incluyendo ambos extremos), en orden creciente, mostrando un número por línea."
   ]
  },
  {
   "cell_type": "code",
   "execution_count": null,
   "id": "c6ca751f",
   "metadata": {},
   "outputs": [],
   "source": [
    "for x in range(101):\n",
    "    print(x)"
   ]
  },
  {
   "cell_type": "markdown",
   "id": "d7d89209",
   "metadata": {},
   "source": [
    "Ejercicio 2\n",
    "\n",
    "Desarrolla un programa que solicite al usuario un número entero y determine la cantidad de\n",
    "dígitos que contiene."
   ]
  },
  {
   "cell_type": "code",
   "execution_count": null,
   "id": "517ad0b4",
   "metadata": {},
   "outputs": [
    {
     "name": "stdout",
     "output_type": "stream",
     "text": [
      "El 345 tiene 3 dígito/s\n"
     ]
    }
   ],
   "source": [
    "# creamos la variable \"cantidad_digitos\"\n",
    "cantidad_digitos = 0\n",
    "\n",
    "# Solicitamos al usuario que ingrese un número entero\n",
    "numero = int(input(\"Ingrese un número entero: \"))\n",
    "\n",
    "# Si el usuario ingresa un número negativo:\n",
    "n = abs(numero)\n",
    "\n",
    "if n == 0:\n",
    "    cantidad_digitos = 1\n",
    "else:\n",
    "    cantidad_digitos = 0\n",
    "\n",
    "while n > 0:\n",
    "    n = n // 10\n",
    "    cantidad_digitos += 1\n",
    "print(f\"El {numero} tiene {cantidad_digitos} dígito/s\")\n",
    "    "
   ]
  },
  {
   "cell_type": "markdown",
   "id": "63f5d4e7",
   "metadata": {},
   "source": [
    "Ejercicio 3\n",
    "\n",
    "Escribe un programa que sume todos los números enteros comprendidos entre dos valores\n",
    "dados por el usuario, excluyendo esos dos valores."
   ]
  },
  {
   "cell_type": "code",
   "execution_count": 6,
   "id": "29d95b6a",
   "metadata": {},
   "outputs": [
    {
     "name": "stdout",
     "output_type": "stream",
     "text": [
      "La suma de los nros. comprendidos entre -1 y 4 es 6\n"
     ]
    }
   ],
   "source": [
    "# declaramos la variable suma\n",
    "suma = 0\n",
    "\n",
    "# solicitamos al usuario que ingrese dos valores\n",
    "numero_uno = int(input(\"Ingrese un número: \"))\n",
    "numero_dos = int(input(\"Ingrese otro: \"))\n",
    "\n",
    "# Si el primer nro. ingresado es mayor al segundo, creamos una variable auxiliar para invertirlos\n",
    "if numero_uno > numero_dos:\n",
    "    aux = numero_uno\n",
    "    numero_uno = numero_dos\n",
    "    numero_dos = aux\n",
    "\n",
    "for nEnt in range(numero_uno + 1, (numero_dos + 1) - 1):\n",
    "    suma = suma + nEnt\n",
    "\n",
    "print(f\"La suma de los nros. comprendidos entre {numero_uno} y {numero_dos} es {suma}\")\n",
    "\n",
    "\n",
    "\n",
    "\n"
   ]
  },
  {
   "cell_type": "markdown",
   "id": "b9cb2fa4",
   "metadata": {},
   "source": [
    "Ejercicio 4\n",
    "\n",
    "Elabora un programa que permita al usuario ingresar números enteros y los sume en\n",
    "secuencia. El programa debe detenerse y mostrar el total acumulado cuando el usuario ingrese\n",
    "un 0."
   ]
  },
  {
   "cell_type": "code",
   "execution_count": 6,
   "id": "ebacc457",
   "metadata": {},
   "outputs": [
    {
     "name": "stdout",
     "output_type": "stream",
     "text": [
      "Ingrese cero para visualizar la suma de los nros. ingresados\n",
      "Ingrese cero para visualizar la suma de los nros. ingresados\n",
      "Ingrese cero para visualizar la suma de los nros. ingresados\n",
      "La suma de los números ingresados es: 4\n"
     ]
    }
   ],
   "source": [
    "# declaramos la variable suma\n",
    "suma = 0\n",
    "\n",
    "# solicitamos al usuario que ingrese los números\n",
    "numero = int(input(\"Ingrese un número: \"))\n",
    "print(\"Ingrese cero para visualizar la suma de los nros. ingresados\")\n",
    "\n",
    "while numero != 0:\n",
    "    suma += numero\n",
    "\n",
    "    numero = int(input(\"Ingrese un número: \"))\n",
    "    print(\"Ingrese cero para visualizar la suma de los nros. ingresados\")\n",
    "\n",
    "print(\"La suma de los números ingresados es:\",suma)\n",
    "\n",
    "\n"
   ]
  },
  {
   "cell_type": "markdown",
   "id": "5b8cc983",
   "metadata": {},
   "source": [
    "Ejercicio 5\n",
    "\n",
    "Crea un juego en el que el usuario deba adivinar un número aleatorio entre 0 y 9. Al final, el\n",
    "programa debe mostrar cuántos intentos fueron necesarios para acertar el número."
   ]
  },
  {
   "cell_type": "code",
   "execution_count": null,
   "id": "ba471f63",
   "metadata": {},
   "outputs": [],
   "source": [
    "# Importamos el módulo que contiene funciones para generar números aleatorios\n",
    "import random\n",
    "\n",
    "# declaramos la variable nros. aleatorios\n",
    "numeros_aleatorios = random.randint(0, 9)\n",
    "\n",
    "# declaramos la variable nro. de intentos\n",
    "cant_intentos = 1\n",
    "\n",
    "# solicitamos al usuario que ingrese números\n",
    "numero = int(input(\"Ingrese un nro (entre 0 y 9): \"))\n",
    "\n",
    "while numero != numeros_aleatorios:\n",
    "    cant_intentos += 1\n",
    "\n",
    "    if numero < numeros_aleatorios:\n",
    "        print(\"Muy bajo! Intenta un nro. más alto\")\n",
    "    elif numero > numeros_aleatorios:\n",
    "        print(\"Muy alto! Intenta un nro. más bajo\")\n",
    "    \n",
    "    numero = int(input(\"Ingrese un nro (entre 0 y 9): \"))\n",
    "\n",
    "print(\"¡Acertaste!, el nro. aleatorio es\", numeros_aleatorios)\n",
    "print(\"Para lograrlo, tuviste que ingresar la cantidad de \",cant_intentos,\" nros.\")\n",
    "\n"
   ]
  },
  {
   "cell_type": "markdown",
   "id": "33de50bc",
   "metadata": {},
   "source": [
    "Ejercicio 6\n",
    "\n",
    "Desarrolla un programa que imprima en pantalla todos los números pares comprendidos\n",
    "entre 0 y 100, en orden decreciente."
   ]
  },
  {
   "cell_type": "code",
   "execution_count": null,
   "id": "cedc67ca",
   "metadata": {},
   "outputs": [],
   "source": [
    "for x in range(100, -2, -2):\n",
    "    print(x)"
   ]
  },
  {
   "cell_type": "markdown",
   "id": "42399dc1",
   "metadata": {},
   "source": [
    "Ejercicio 7\n",
    "\n",
    "Crea un programa que calcule la suma de todos los números comprendidos entre 0 y un\n",
    "número entero positivo indicado por el usuario."
   ]
  },
  {
   "cell_type": "code",
   "execution_count": 10,
   "id": "d0c30200",
   "metadata": {},
   "outputs": [
    {
     "name": "stdout",
     "output_type": "stream",
     "text": [
      "El nro. ingresado no es positivo\n",
      "La suma de los nros. entre 0 y 8 es 28\n"
     ]
    }
   ],
   "source": [
    "#declaramos la variable suma\n",
    "suma = 0\n",
    "\n",
    "# solicitamos al usuario que ingrese un número\n",
    "numero = int(input(\"Ingrese un nro. mayor a cero: \"))\n",
    "\n",
    "while numero <= 0:\n",
    "    numero = int(input(\"Ingrese un nro. mayor a cero: \"))\n",
    "    if numero < 0:\n",
    "        print(\"El nro. ingresado no es positivo\")\n",
    "\n",
    "if numero > 0:\n",
    "    for x in range(0+1, (numero+1)-1):\n",
    "        suma += x\n",
    "    \n",
    "    print(\"La suma de los nros. entre 0 y\", numero,\"es\",suma)\n",
    "\n",
    "\n",
    "\n"
   ]
  },
  {
   "cell_type": "markdown",
   "id": "c5131070",
   "metadata": {},
   "source": [
    "Ejercicio 8\n",
    "\n",
    "Escribe un programa que permita al usuario ingresar 100 números enteros. Luego, el\n",
    "programa debe indicar cuántos de estos números son pares, cuántos son impares, cuántos son\n",
    "negativos y cuántos son positivos. (Nota: para probar el programa puedes usar una cantidad\n",
    "menor, pero debe estar preparado para procesar 100 números con un solo cambio)."
   ]
  },
  {
   "cell_type": "code",
   "execution_count": null,
   "id": "f9dd6c7b",
   "metadata": {},
   "outputs": [
    {
     "name": "stdout",
     "output_type": "stream",
     "text": [
      "La cantidad de nros. pares ingresados son: 3\n",
      "La cantidad de nros. impares ingresados son: 3\n",
      "La cantidad de nros. negativos ingresados son: 2\n",
      "La cantidad de nros. positivos ingresados son: 4\n"
     ]
    }
   ],
   "source": [
    "# declaramos la variable contador:\n",
    "cont_pares = 0\n",
    "cont_impares = 0\n",
    "cont_positivos = 0\n",
    "cont_negativos = 0\n",
    "\n",
    "for x in range(0, 100):\n",
    "    # solicitamos al usuario que ingrese un número\n",
    "    numero = int(input(\"Ingrese un nro.: \"))\n",
    "\n",
    "    if numero % 2 == 0:\n",
    "        cont_pares += 1\n",
    "    else:\n",
    "        cont_impares += 1\n",
    "    \n",
    "    if numero < 0:\n",
    "        cont_negativos += 1\n",
    "    elif numero > 0:\n",
    "        cont_positivos += 1\n",
    "\n",
    "print(\"La cantidad de nros. pares ingresados son:\",cont_pares)\n",
    "print(\"La cantidad de nros. impares ingresados son:\",cont_impares)\n",
    "print(\"La cantidad de nros. negativos ingresados son:\",cont_negativos)\n",
    "print(\"La cantidad de nros. positivos ingresados son:\",cont_positivos)\n",
    "\n",
    "\n"
   ]
  },
  {
   "cell_type": "markdown",
   "id": "3ae97d95",
   "metadata": {},
   "source": [
    "Ejercicio 9\n",
    "\n",
    "Elabora un programa que permita al usuario ingresar 100 números enteros y luego calcule la\n",
    "media de esos valores. (Nota: puedes probar el programa con una cantidad menor, pero debe\n",
    "poder procesar 100 números cambiando solo un valor)."
   ]
  },
  {
   "cell_type": "code",
   "execution_count": null,
   "id": "3568f233",
   "metadata": {},
   "outputs": [
    {
     "name": "stdout",
     "output_type": "stream",
     "text": [
      "La media de las valores ingresados es 5.0\n"
     ]
    }
   ],
   "source": [
    "#declaramos variables:\n",
    "suma = 0\n",
    "cont = 0\n",
    "promedio = 0\n",
    "\n",
    "for x in range(0, 100):\n",
    "    # solicitamos al usuario que ingrese un número\n",
    "    numero = float(input(\"Ingrese un nro.: \"))\n",
    "    cont += 1\n",
    "    suma += numero\n",
    "\n",
    "promedio = suma / cont\n",
    "\n",
    "print(\"La media de las valores ingresados es\", promedio)"
   ]
  },
  {
   "cell_type": "markdown",
   "id": "7ee777d5",
   "metadata": {},
   "source": [
    "Ejercicio 10\n",
    "\n",
    "Escribe un programa que invierta el orden de los dígitos de un número ingresado por el\n",
    "usuario. Ejemplo: si el usuario ingresa 547, el programa debe mostrar 745."
   ]
  },
  {
   "cell_type": "code",
   "execution_count": 15,
   "id": "e08cdd73",
   "metadata": {},
   "outputs": [
    {
     "name": "stdout",
     "output_type": "stream",
     "text": [
      "5 ! =  5 x 4 x 3 x 2 x 1  =  120\n"
     ]
    }
   ],
   "source": [
    "# solicitamos al usuario que ingrese un número\n",
    "numero = int(input(\"Ingrese un nro.: \"))\n",
    "\n",
    "if numero < 0:\n",
    "    print(\"El factorial no está definido para nros. negativos\")\n",
    "else:\n",
    "    factorial = 1\n",
    "    factorial_texto = \"\"\n",
    "\n",
    "    for x in range(numero,0, -1):\n",
    "        factorial = factorial * x\n",
    "\n",
    "        if x == 1:\n",
    "            factorial_texto = factorial_texto + str(x)\n",
    "        else:\n",
    "            factorial_texto = factorial_texto + str(x) + \" x \"\n",
    "\n",
    "print(numero,\"! = \", factorial_texto, \" = \", factorial)\n"
   ]
  }
 ],
 "metadata": {
  "kernelspec": {
   "display_name": "Python 3",
   "language": "python",
   "name": "python3"
  },
  "language_info": {
   "codemirror_mode": {
    "name": "ipython",
    "version": 3
   },
   "file_extension": ".py",
   "mimetype": "text/x-python",
   "name": "python",
   "nbconvert_exporter": "python",
   "pygments_lexer": "ipython3",
   "version": "3.13.5"
  }
 },
 "nbformat": 4,
 "nbformat_minor": 5
}
