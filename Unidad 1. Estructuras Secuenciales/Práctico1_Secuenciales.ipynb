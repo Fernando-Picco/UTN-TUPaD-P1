{
 "cells": [
  {
   "cell_type": "markdown",
   "id": "2a86fc0d",
   "metadata": {},
   "source": [
    "1) Crear un programa que imprima por pantalla el mensaje: “Hola Mundo!”."
   ]
  },
  {
   "cell_type": "code",
   "execution_count": null,
   "id": "791d54b7",
   "metadata": {},
   "outputs": [],
   "source": [
    "print(\"Hola Mundo!\");"
   ]
  },
  {
   "cell_type": "markdown",
   "id": "21fff9f5",
   "metadata": {},
   "source": [
    "2. Crear un programa que pida al usuario su nombre e imprima por pantalla un saludo usando\n",
    "el nombre ingresado. Por ejemplo: si el usuario ingresa “Marcos”, el programa debe imprimir\n",
    "por pantalla “Hola Marcos!”. Consejo: esto será más sencillo si utilizas print(f…) para\n",
    "realizar la impresión por pantalla."
   ]
  },
  {
   "cell_type": "code",
   "execution_count": null,
   "id": "e0fecc0e",
   "metadata": {},
   "outputs": [],
   "source": [
    "nombre = input(\"Ingrese su nombre: \");\n",
    "print(f\"Hola {nombre}!\");"
   ]
  },
  {
   "cell_type": "markdown",
   "id": "863c1e60",
   "metadata": {},
   "source": [
    "3. Crear un programa que pida al usuario su nombre, apellido, edad y lugar de residencia e\n",
    "imprima por pantalla una oración con los datos ingresados. Por ejemplo: si el usuario ingresa\n",
    "“Marcos”, “Pérez”, “30” y “Argentina”, el programa debe imprimir “Soy Marcos Pérez, tengo 30\n",
    "años y vivo en Argentina”. Consejo: esto será más sencillo si utilizas print(f…) para realizar\n",
    "la impresión por pantalla."
   ]
  },
  {
   "cell_type": "code",
   "execution_count": null,
   "id": "52269156",
   "metadata": {},
   "outputs": [],
   "source": [
    "nombre = input(\"Ingrese su nombre: \");\n",
    "apellido = input(\"Ingrese su apellido: \");\n",
    "edad = int(input(\"Ingrese su edad: \"));\n",
    "lugar_residencia = input(\"Ingrese su lugar de residencia: \");\n",
    "print(f\"Soy {nombre} {apellido}, tengo {edad} años y vivo en {lugar_residencia}\");"
   ]
  },
  {
   "cell_type": "markdown",
   "id": "db4ba521",
   "metadata": {},
   "source": [
    "4. Crear un programa que pida al usuario el radio de un círculo e imprima por pantalla su área y\n",
    "su perímetro."
   ]
  },
  {
   "cell_type": "code",
   "execution_count": 15,
   "id": "8f27f6a6",
   "metadata": {},
   "outputs": [
    {
     "name": "stdout",
     "output_type": "stream",
     "text": [
      "El área del círculo es 153.94 y su perímetro 43.98\n"
     ]
    }
   ],
   "source": [
    "radio = float(input(\"Ingrese el radio del círculo: \"));\n",
    "pi = 3.1416;\n",
    "area = round(pi * radio * radio, 2);\n",
    "perimetro = round(2 * pi * radio, 2);\n",
    "\n",
    "print(f\"El área del círculo es {area} y su perímetro {perimetro}\");"
   ]
  },
  {
   "cell_type": "markdown",
   "id": "5d1e2f7f",
   "metadata": {},
   "source": [
    "5. Crear un programa que pida al usuario una cantidad de segundos e imprima por pantalla a cuántas horas equivale."
   ]
  },
  {
   "cell_type": "code",
   "execution_count": 18,
   "id": "6451334b",
   "metadata": {},
   "outputs": [
    {
     "name": "stdout",
     "output_type": "stream",
     "text": [
      "La cantidad de segundos ingresados equivalen a 1.07 horas\n"
     ]
    }
   ],
   "source": [
    "cant_segundos = int(input(\"Ingrese la cantidad de segundos: \"));\n",
    "horas = round((cant_segundos / 3600),2);\n",
    "\n",
    "print(f\"La cantidad de segundos ingresados equivalen a {horas} horas\");"
   ]
  },
  {
   "cell_type": "markdown",
   "id": "2ba77e73",
   "metadata": {},
   "source": [
    "6. Crear un programa que pida al usuario un número e imprima por pantalla la tabla de\n",
    "multiplicar de dicho número."
   ]
  },
  {
   "cell_type": "code",
   "execution_count": null,
   "id": "74652538",
   "metadata": {},
   "outputs": [],
   "source": [
    "numero = int(input(\"Ingrese un nro.: \"));\n",
    "\n",
    "print(f\"{numero} x 1 = {numero}\");\n",
    "print(f\"{numero} x 2 = {numero * 2}\");\n",
    "print(f\"{numero} x 3 = {numero*3}\");\n",
    "print(f\"{numero} x 4 = {numero*4}\");\n",
    "print(f\"{numero} x 5 = {numero*5}\");\n",
    "print(f\"{numero} x 6 = {numero*6}\");\n",
    "print(f\"{numero} x 7 = {numero*7}\");\n",
    "print(f\"{numero} x 8 = {numero*8}\");\n",
    "print(f\"{numero} x 9 = {numero*9}\");\n",
    "print(f\"{numero} x 10 = {numero*10}\");"
   ]
  },
  {
   "cell_type": "markdown",
   "id": "c1db0cfb",
   "metadata": {},
   "source": [
    "7. Crear un programa que pida al usuario dos números enteros distintos del 0 y muestre por pantalla el resultado de sumarlos, dividirlos, multiplicarlos y restarlos."
   ]
  },
  {
   "cell_type": "code",
   "execution_count": null,
   "id": "6ae9b8ce",
   "metadata": {},
   "outputs": [],
   "source": [
    "numero_1 = int(input(\"Ingrese un nro. entero: \"));\n",
    "numero_2 = int(input(\"Ingrese otro: \"));\n",
    "\n",
    "suma = numero_1 + numero_2;\n",
    "dividir = numero_1 / numero_2;\n",
    "multiplicar = numero_1 * numero_2;\n",
    "resta = numero_1 - numero_2;\n",
    "\n",
    "print(f\"El resultado de sumar {numero_1} y {numero_2} es {suma}\");\n",
    "print(f\"El resultado de dividir {numero_1} entre {numero_2} es {dividir}\");\n",
    "print(f\"El resultado de multiplicar {numero_1} por {numero_2} es {multiplicar}\");\n",
    "print(f\"El resultado de restar {numero_1} y {numero_2} es {resta}\");"
   ]
  },
  {
   "cell_type": "markdown",
   "id": "090f8fae",
   "metadata": {},
   "source": [
    "8. Crear un programa que pida al usuario su altura y su peso e imprima por pantalla su índice de masa corporal. Tener en cuenta que el índice de masa corporal se calcula del siguiente modo: 𝐼𝑀𝐶 = 𝑝𝑒𝑠𝑜 𝑒𝑛 𝑘𝑔 / (𝑎𝑙𝑡𝑢𝑟𝑎 𝑒𝑛 𝑚)2"
   ]
  },
  {
   "cell_type": "code",
   "execution_count": null,
   "id": "5f7c1102",
   "metadata": {},
   "outputs": [],
   "source": [
    "altura = float(input(\"Ingrese su altura en cm: \"));\n",
    "peso = float(input(\"Ingrese su peso en kg: \"));\n",
    "\n",
    "imc = peso / (altura * altura);\n",
    "\n",
    "print(f\"Su índice de masa corporas es {imc} kg/m2\")"
   ]
  },
  {
   "cell_type": "markdown",
   "id": "85ff3e44",
   "metadata": {},
   "source": [
    "9. Crear un programa que pida al usuario una temperatura en grados Celsius e imprima por pantalla su equivalente en grados Fahrenheit. Tener en cuenta la siguiente equivalencia: \n",
    "𝑇𝑒𝑚𝑝𝑒𝑟𝑎𝑡𝑢𝑟𝑎 𝑒𝑛 𝐹𝑎ℎ𝑟𝑒𝑛ℎ𝑒𝑖𝑡 = 9/5 . 𝑇𝑒𝑚𝑝𝑒𝑟𝑎𝑡𝑢𝑟𝑎 𝑒𝑛 𝐶𝑒𝑙𝑠𝑖𝑢𝑠 + 32\n"
   ]
  },
  {
   "cell_type": "code",
   "execution_count": 8,
   "id": "26ac2a03",
   "metadata": {},
   "outputs": [
    {
     "name": "stdout",
     "output_type": "stream",
     "text": [
      "La temperatura equivalente en grados Fahrenheit es 32.0 °F\n"
     ]
    }
   ],
   "source": [
    "tempGradosCelsius = float(input(\"Ingrese la temperatura en °C: \"));\n",
    "tempFahrenheit = 9/5 * tempGradosCelsius + 32;\n",
    "\n",
    "print(f\"La temperatura equivalente en grados Fahrenheit es {tempFahrenheit} °F\");\n"
   ]
  },
  {
   "cell_type": "markdown",
   "id": "36939827",
   "metadata": {},
   "source": [
    "10. Crear un programa que pida al usuario 3 números e imprima por pantalla el promedio de dichos números."
   ]
  },
  {
   "cell_type": "code",
   "execution_count": null,
   "id": "0a57a5ff",
   "metadata": {},
   "outputs": [],
   "source": [
    "n1 = int(input(\"Ingrese un número: \"));\n",
    "n2 = int(input(\"Ingrese otro: \"));\n",
    "n3 = int(input(\"Ingrese el último: \"));\n",
    "\n",
    "promedio = (n1 + n2 + n3) / 3;\n",
    "\n",
    "print(f\"El promedio de los números ingresados es {promedio}\");"
   ]
  }
 ],
 "metadata": {
  "kernelspec": {
   "display_name": "Python 3",
   "language": "python",
   "name": "python3"
  },
  "language_info": {
   "codemirror_mode": {
    "name": "ipython",
    "version": 3
   },
   "file_extension": ".py",
   "mimetype": "text/x-python",
   "name": "python",
   "nbconvert_exporter": "python",
   "pygments_lexer": "ipython3",
   "version": "3.13.5"
  }
 },
 "nbformat": 4,
 "nbformat_minor": 5
}
