{
 "cells": [
  {
   "cell_type": "markdown",
   "id": "e59ca47f",
   "metadata": {},
   "source": [
    "Práctico 3: Estructuras condicionales"
   ]
  },
  {
   "cell_type": "markdown",
   "id": "2c0be445",
   "metadata": {},
   "source": [
    "Ejercicio Nº1.\n",
    "Escribir un programa que solicite la edad del usuario. Si el usuario es mayor de 18 años, deberá mostrar un mensaje en pantalla que diga “Es mayor de edad”."
   ]
  },
  {
   "cell_type": "code",
   "execution_count": null,
   "id": "8862a444",
   "metadata": {},
   "outputs": [],
   "source": [
    "edad = int(input(\"Ingrese su edad: \"));\n",
    "if edad > 18:\n",
    "    print(\"Es mayor de edad\");"
   ]
  }
 ],
 "metadata": {
  "language_info": {
   "name": "python"
  }
 },
 "nbformat": 4,
 "nbformat_minor": 5
}
