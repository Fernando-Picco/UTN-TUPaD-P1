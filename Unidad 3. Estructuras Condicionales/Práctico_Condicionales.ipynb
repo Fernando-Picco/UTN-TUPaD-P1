{
 "cells": [
  {
   "cell_type": "markdown",
   "id": "e59ca47f",
   "metadata": {},
   "source": [
    "Práctico 3: Estructuras condicionales"
   ]
  },
  {
   "cell_type": "markdown",
   "id": "2c0be445",
   "metadata": {},
   "source": [
    "Ejercicio Nº1.\n",
    "Escribir un programa que solicite la edad del usuario. Si el usuario es mayor de 18 años, deberá mostrar un mensaje en pantalla que diga “Es mayor de edad”."
   ]
  },
  {
   "cell_type": "code",
   "execution_count": 2,
   "id": "8862a444",
   "metadata": {},
   "outputs": [],
   "source": [
    "edad = int(input(\"Ingrese su edad: \"));\n",
    "if edad > 18:\n",
    "    print(\"Es mayor de edad\");"
   ]
  },
  {
   "cell_type": "markdown",
   "id": "70767031",
   "metadata": {},
   "source": [
    "Ejercicio Nº2. Escribir un programa que solicite su nota al usuario. Si la nota es mayor o igual a 6, deberá mostrar por pantalla un mensaje que diga “Aprobado”; en caso contrario deberá mostrar el mensaje “Desaprobado”."
   ]
  },
  {
   "cell_type": "code",
   "execution_count": 4,
   "id": "16171292",
   "metadata": {},
   "outputs": [
    {
     "name": "stdout",
     "output_type": "stream",
     "text": [
      "Aprobado\n"
     ]
    }
   ],
   "source": [
    "nota = float(input(\"Ingrese su nota: \"));\n",
    "if nota >= 6:\n",
    "    print(\"Aprobado\");\n",
    "else:\n",
    "    print(\"Desaprobado\");"
   ]
  },
  {
   "cell_type": "markdown",
   "id": "00c614f4",
   "metadata": {},
   "source": [
    "Ejercicio Nº3. Escribir un programa que permita ingresar solo números pares. Si el usuario ingresa un número par, imprimir por en pantalla el mensaje \"Ha ingresado un número par\"; en caso contrario, imprimir por pantalla \"Por favor, ingrese un número par\". Nota: investigar el uso del operador de módulo (%) en Python para evaluar si un número es par o impar."
   ]
  },
  {
   "cell_type": "code",
   "execution_count": null,
   "id": "ab3d4831",
   "metadata": {},
   "outputs": [],
   "source": [
    "numero = int(input(\"Ingrese un número: \"));\n",
    "if numero % 2 == 0:\n",
    "    print(\"Ha ingresado un número par\");\n",
    "else:\n",
    "    print(\"Por favor ingrese un número par\");"
   ]
  }
 ],
 "metadata": {
  "kernelspec": {
   "display_name": "Python 3",
   "language": "python",
   "name": "python3"
  },
  "language_info": {
   "codemirror_mode": {
    "name": "ipython",
    "version": 3
   },
   "file_extension": ".py",
   "mimetype": "text/x-python",
   "name": "python",
   "nbconvert_exporter": "python",
   "pygments_lexer": "ipython3",
   "version": "3.13.5"
  }
 },
 "nbformat": 4,
 "nbformat_minor": 5
}
