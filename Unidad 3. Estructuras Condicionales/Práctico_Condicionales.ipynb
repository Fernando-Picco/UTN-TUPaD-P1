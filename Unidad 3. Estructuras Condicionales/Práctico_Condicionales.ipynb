{
 "cells": [
  {
   "cell_type": "markdown",
   "id": "e59ca47f",
   "metadata": {},
   "source": [
    "Práctico 3: Estructuras condicionales"
   ]
  },
  {
   "cell_type": "markdown",
   "id": "2c0be445",
   "metadata": {},
   "source": [
    "Ejercicio Nº1.\n",
    "Escribir un programa que solicite la edad del usuario. Si el usuario es mayor de 18 años, deberá mostrar un mensaje en pantalla que diga “Es mayor de edad”."
   ]
  },
  {
   "cell_type": "code",
   "execution_count": 2,
   "id": "8862a444",
   "metadata": {},
   "outputs": [],
   "source": [
    "edad = int(input(\"Ingrese su edad: \"));\n",
    "if edad > 18:\n",
    "    print(\"Es mayor de edad\");"
   ]
  },
  {
   "cell_type": "markdown",
   "id": "70767031",
   "metadata": {},
   "source": [
    "Ejercicio Nº2. Escribir un programa que solicite su nota al usuario. Si la nota es mayor o igual a 6, deberá mostrar por pantalla un mensaje que diga “Aprobado”; en caso contrario deberá mostrar el mensaje “Desaprobado”."
   ]
  },
  {
   "cell_type": "code",
   "execution_count": 4,
   "id": "16171292",
   "metadata": {},
   "outputs": [
    {
     "name": "stdout",
     "output_type": "stream",
     "text": [
      "Aprobado\n"
     ]
    }
   ],
   "source": [
    "nota = float(input(\"Ingrese su nota: \"));\n",
    "if nota >= 6:\n",
    "    print(\"Aprobado\");\n",
    "else:\n",
    "    print(\"Desaprobado\");"
   ]
  },
  {
   "cell_type": "markdown",
   "id": "00c614f4",
   "metadata": {},
   "source": [
    "Ejercicio Nº3. Escribir un programa que permita ingresar solo números pares. Si el usuario ingresa un número par, imprimir por en pantalla el mensaje \"Ha ingresado un número par\"; en caso contrario, imprimir por pantalla \"Por favor, ingrese un número par\". Nota: investigar el uso del operador de módulo (%) en Python para evaluar si un número es par o impar."
   ]
  },
  {
   "cell_type": "code",
   "execution_count": 8,
   "id": "ab3d4831",
   "metadata": {},
   "outputs": [
    {
     "name": "stdout",
     "output_type": "stream",
     "text": [
      "Por favor ingrese un número par\n"
     ]
    }
   ],
   "source": [
    "numero = int(input(\"Ingrese un número: \"));\n",
    "if numero % 2 == 0:\n",
    "    print(\"Ha ingresado un número par\");\n",
    "else:\n",
    "    print(\"Por favor ingrese un número par\");"
   ]
  },
  {
   "cell_type": "markdown",
   "id": "7be4fd74",
   "metadata": {},
   "source": [
    "Ejercicio Nº4. Escribir un programa que solicite al usuario su edad e imprima por pantalla a cuál de las siguientes categorías pertenece:\n",
    "\n",
    "● Niño/a: menor de 12 años.\n",
    "\n",
    "● Adolescente: mayor o igual que 12 años y menor que 18 años.\n",
    "\n",
    "● Adulto/a joven: mayor o igual que 18 años y menor que 30 años.\n",
    "\n",
    "● Adulto/a: mayor o igual que 30 años."
   ]
  },
  {
   "cell_type": "code",
   "execution_count": 17,
   "id": "451e4a6e",
   "metadata": {},
   "outputs": [
    {
     "name": "stdout",
     "output_type": "stream",
     "text": [
      "Pertenece a la categoría Adulto/a\n"
     ]
    }
   ],
   "source": [
    "edad = int(input(\"Ingrese su edad: \"));\n",
    "if edad < 12:\n",
    "    print(\"Pertenece a la categoría Niño/a\");\n",
    "elif edad >= 12 and edad < 18:\n",
    "    print(\"Pertenece a la categoría Adolescente\");\n",
    "elif edad >= 18 and edad < 30:\n",
    "    print(\"Pertenece a la categoría Adulto/a joven\");\n",
    "else:\n",
    "    print(\"Pertenece a la categoría Adulto/a\");"
   ]
  },
  {
   "cell_type": "markdown",
   "id": "1c659b0d",
   "metadata": {},
   "source": [
    "Ejercicio Nº5. Escribir un programa que permita introducir contraseñas de entre 8 y 14 caracteres (incluyendo 8 y 14). Si el usuario ingresa una contraseña de longitud adecuada, imprimir por en pantalla el mensaje \"Ha ingresado una contraseña correcta\"; en caso contrario, imprimir por pantalla \"Por favor, ingrese una contraseña de entre 8 y 14 caracteres\". Nota: investigue el uso de la función len() en Python para evaluar la cantidad de elementos que tiene un iterable tal como una lista o un string."
   ]
  },
  {
   "cell_type": "code",
   "execution_count": 22,
   "id": "8338d2a0",
   "metadata": {},
   "outputs": [
    {
     "name": "stdout",
     "output_type": "stream",
     "text": [
      "Por favor, ingrese una contraseña de entre 8 y 14 caracteres\n"
     ]
    }
   ],
   "source": [
    "contraseña = input(\"Ingrese una contraseña (entre 8 y 14 caracteres): \");\n",
    "if len(contraseña) >=8 and len(contraseña) <= 14:\n",
    "    print(\"Ha ingresado una contraseña correcta\");\n",
    "else:\n",
    "    print(\"Por favor, ingrese una contraseña de entre 8 y 14 caracteres\");\n"
   ]
  },
  {
   "cell_type": "markdown",
   "id": "4ab7d251",
   "metadata": {},
   "source": [
    "Ejercicio Nº6. El paquete statistics de python contiene funciones que permiten tomar una lista de números y calcular la moda, la mediana y la media de dichos números. Un ejemplo de su uso es el siguiente:\n",
    "\n",
    "from statistics import mode, median, mean\n",
    "\n",
    "mi_lista = [1,2,5,5,3]\n",
    "\n",
    "mean(mi_lista)\n",
    "\n",
    "En la documentación oficial se puede encontrar más información sobre este paquete:\n",
    "https://docs.python.org/es/3.8/library/statistics.html.\n",
    "\n",
    "La moda (mode), la mediana (median) y la media (mean) son parámetros estadísticos que se pueden utilizar para predecir la forma de una distribución normal a partir del siguiente criterio:\n",
    "\n",
    "● Sesgo positivo o a la derecha: cuando la media es mayor que la mediana y, a su vez, la mediana es mayor que la moda.\n",
    "\n",
    "● Sesgo negativo o a la izquierda: cuando la media es menor que la mediana y, a su vez, la mediana es menor que la moda.\n",
    "\n",
    "● Sin sesgo: cuando la media, la mediana y la moda son iguales. \n",
    "\n",
    "Teniendo en cuenta lo antes mencionado, escribir un programa que tome la lista\n",
    "numeros_aleatorios, calcule su moda, su mediana y su media y las compare para determinar si hay sesgo positivo, negativo o no hay sesgo. Imprimir el resultado por pantalla.\n",
    "\n",
    "Definir la lista numeros_aleatorios de la siguiente forma:\n",
    "\n",
    "import random\n",
    "\n",
    "numeros_aleatorios = [random.randint(1, 100) for i in range(50)]\n",
    "\n",
    "Nota: el bloque de código anterior crea una lista con 50 números entre 1 y 100 elegidos de forma aleatoria."
   ]
  },
  {
   "cell_type": "code",
   "execution_count": null,
   "id": "d4f90234",
   "metadata": {},
   "outputs": [],
   "source": [
    "import random;\n",
    "from statistics import mode, median, mean;\n",
    "\n",
    "numeros_aleatorios = [random.randint(1, 100)for i in range(50)];\n",
    "\n",
    "#calculo del promedio, moda y mediana.\n",
    "moda = mode(numeros_aleatorios);\n",
    "mediana = median(numeros_aleatorios);\n",
    "promedio = mean(numeros_aleatorios);\n",
    "\n",
    "#muestra de los valores calculados\n",
    "print(\"Lista de números aleatorios: \");\n",
    "print(numeros_aleatorios);\n",
    "print(\"Moda: \", moda);\n",
    "print(\"Mediana: \", mediana);\n",
    "print(\"Promedio: \", promedio);\n",
    "\n",
    "#Para determinar los tipos de sesgos:\n",
    "if promedio > mediana and mediana > moda:\n",
    "    print(\"Dstribución con sesgo positivo (a la derecha)\");\n",
    "elif promedio < mediana and mediana < moda:\n",
    "    print(\"Dstribución con sesgo negativo (a la izquierda)\")\n",
    "elif promedio == mediana == moda:\n",
    "    print(\"Distribución sin sesgo\");\n",
    "else:\n",
    "    print(\"Distribución no cumple con ninguno de los 3 criterios\");"
   ]
  },
  {
   "cell_type": "markdown",
   "id": "54f3c7f1",
   "metadata": {},
   "source": [
    "Ejercicio Nº7. Escribir un programa que solicite una frase o palabra al usuario. Si el string ingresado termina con vocal, añadir un signo de exclamación al final e imprimir el string resultante por pantalla; en caso contrario, dejar el string tal cual lo ingresó el usuario e imprimirlo por pantalla."
   ]
  },
  {
   "cell_type": "code",
   "execution_count": null,
   "id": "ebe94bd4",
   "metadata": {},
   "outputs": [
    {
     "name": "stdout",
     "output_type": "stream",
     "text": [
      "BAsta!\n"
     ]
    }
   ],
   "source": [
    "frase = input(\"Ingrese una palabra o frase: \");\n",
    "vocales = \"aeiou\";\n",
    "if frase[-1].lower() in vocales:\n",
    "    print(frase +\"!\");\n",
    "else:\n",
    "    print(frase);"
   ]
  },
  {
   "cell_type": "markdown",
   "id": "efed81c4",
   "metadata": {},
   "source": [
    "Ejercicio Nº8. Escribir un programa que solicite al usuario que ingrese su nombre y el número 1, 2 o 3 dependiendo de la opción que desee:\n",
    "\n",
    "1. Si quiere su nombre en mayúsculas. Por ejemplo: PEDRO.\n",
    "\n",
    "2. Si quiere su nombre en minúsculas. Por ejemplo: pedro.\n",
    "\n",
    "3. Si quiere su nombre con la primera letra mayúscula. Por ejemplo: Pedro.\n",
    "\n",
    "El programa debe transformar el nombre ingresado de acuerdo a la opción seleccionada por el usuario e imprimir el resultado por pantalla. Nota: investigue uso de las funciones upper(), lower() y title() de Python para convertir entre mayúsculas y minúsculas."
   ]
  },
  {
   "cell_type": "code",
   "execution_count": null,
   "id": "ab9404b3",
   "metadata": {},
   "outputs": [],
   "source": [
    "nombre = input(\"Ingrese su nombre: \");\n",
    "print(\"\\nSeleccione una opción:\");\n",
    "print(\"1. Nombre en mayúscula. Por ejemplo: PEDRO\");\n",
    "print(\"2. Nombre en minúsculas. Por ejemplo: pedro\");\n",
    "print(\"3. Nombre con la primera letra mayúscula. Por ejemplo: Pedro\");\n",
    "\n",
    "opcion = input(\"Ingrese 1, 2 o 3\");\n",
    "#upper = mayúsculas\n",
    "#lower = minúsculas \n",
    "#title = primer letra mayúscula.\n",
    "\n",
    "if opcion == \"1\":\n",
    "    print(nombre.upper());\n",
    "elif opcion == \"2\":\n",
    "    print(nombre.lower());\n",
    "elif opcion == \"3\":\n",
    "    print(nombre.title());\n",
    "else:\n",
    "    print(\"Opción no valida, por favor ingrese 1, 2 o 3\");"
   ]
  },
  {
   "cell_type": "markdown",
   "id": "730e734a",
   "metadata": {},
   "source": [
    "Ejercicio Nº9. Escribir un programa que pida al usuario la magnitud de un terremoto, clasifique la\n",
    "magnitud en una de las siguientes categorías según la escala de Richter e imprima el resultado por pantalla:\n",
    "\n",
    "● Menor que 3: \"Muy leve\" (imperceptible).\n",
    "\n",
    "● Mayor o igual que 3 y menor que 4: \"Leve\" (ligeramente perceptible).\n",
    "\n",
    "● Mayor o igual que 4 y menor que 5: \"Moderado\" (sentido por personas, pero generalmente no causa daños).\n",
    "\n",
    "● Mayor o igual que 5 y menor que 6: \"Fuerte\" (puede causar daños en estructuras débiles). \n",
    "\n",
    "● Mayor o igual que 6 y menor que 7: \"Muy Fuerte\" (puede causar daños significativos).\n",
    "\n",
    "● Mayor o igual que 7: \"Extremo\" (puede causar graves daños a gran escala)."
   ]
  },
  {
   "cell_type": "code",
   "execution_count": null,
   "id": "c08bc449",
   "metadata": {},
   "outputs": [],
   "source": [
    "magnitud_terremoto = float(input(\"Ingrese la magnitud del terremoto: \"));\n",
    "\n",
    "if magnitud_terremoto < 3:\n",
    "    print('\"Muy leve\" (imperceptible)');\n",
    "elif magnitud_terremoto >= 3 and magnitud_terremoto < 4:\n",
    "    print('\"Leve\" (ligeramente imperceptible)');\n",
    "elif magnitud_terremoto >= 4 and magnitud_terremoto < 5:\n",
    "    print('\"Moderado\" (sentido por personas, pero generalmente no causa daños)');\n",
    "elif magnitud_terremoto >= 5 and magnitud_terremoto < 6:\n",
    "    print('\"Fuerte\" (puede causar daños en estructuras débiles)');\n",
    "elif magnitud_terremoto >= 6 and magnitud_terremoto < 7:\n",
    "    print('\"Muy fuerte\" (puede causar daños significativos)');\n",
    "else:\n",
    "    print('\"Extremo\" (puede causar graves daños a gran escala)');"
   ]
  },
  {
   "attachments": {
    "image.png": {
     "image/png": "[encoded data removed]"
    }
   },
   "cell_type": "markdown",
   "id": "af7d6f44",
   "metadata": {},
   "source": [
    "Ejercicio Nº10. Utilizando la información aportada en la siguiente tabla sobre las estaciones del año\n",
    "\n",
    "![image.png](attachment:image.png)\n",
    "\n",
    "Escribir un programa que pregunte al usuario en cuál hemisferio se encuentra (N/S), qué mes\n",
    "del año es y qué día es. El programa deberá utilizar esa información para imprimir por pantalla\n",
    "si el usuario se encuentra en otoño, invierno, primavera o verano."
   ]
  },
  {
   "cell_type": "code",
   "execution_count": null,
   "id": "7cde04bc",
   "metadata": {},
   "outputs": [],
   "source": [
    "hemisferio = input(\"Indique en cuál hemisferio se encuentra (N/S)\");\n",
    "mes = int(input(\"¿Mes del año? (1 al 12)\"));\n",
    "dia_semana = int(input(\"¿Qué día es?\"));\n",
    "\n",
    "if hemisferio.upper() == 'N':\n",
    "    if (mes == 12 and dia_semana >= 21) or (mes == 1 or mes == 2) or (mes == 3 and dia_semana <=20):\n",
    "        print(\"Se encuentra en invierno\");\n",
    "    elif (mes == 3 and dia_semana >= 21) or (mes == 4 or mes == 5) or (mes == 6 and dia_semana <=20):\n",
    "        print(\"Se encuentra en primavera\");\n",
    "    elif (mes == 6 and dia_semana >= 21) or (mes == 7 or mes == 8) or (mes == 9 and dia_semana <= 20):\n",
    "        print(\"Se encuentra en verano\");\n",
    "    elif (mes == 9 and dia_semana >= 21) or (mes == 10 or mes == 11) or (mes == 12 and dia_semana <= 20):\n",
    "        print(\"Se encuentra en otoño\");\n",
    "elif hemisferio.upper() == 'S':\n",
    "    if (mes == 12 and dia_semana >= 21) or (mes == 1 or mes == 2) or (mes == 3 and dia_semana <=20):\n",
    "        print(\"Se encuentra en verano\");\n",
    "    elif (mes == 3 and dia_semana >= 21) or (mes == 4 or mes == 5) or (mes == 6 and dia_semana <=20):\n",
    "        print(\"Se encuentra en otoño\");\n",
    "    elif (mes == 6 and dia_semana >= 21) or (mes == 7 or mes == 8) or (mes == 9 and dia_semana <= 20):\n",
    "        print(\"Se encuentra en invierno\");\n",
    "    elif (mes == 9 and dia_semana >= 21) or (mes == 10 or mes == 11) or (mes == 12 and dia_semana <= 20):\n",
    "        print(\"Se encuentra en primavera\");\n",
    "else:\n",
    "    print(\"Ha ingresado hemisferio no válido\");"
   ]
  }
 ],
 "metadata": {
  "kernelspec": {
   "display_name": "Python 3",
   "language": "python",
   "name": "python3"
  },
  "language_info": {
   "codemirror_mode": {
    "name": "ipython",
    "version": 3
   },
   "file_extension": ".py",
   "mimetype": "text/x-python",
   "name": "python",
   "nbconvert_exporter": "python",
   "pygments_lexer": "ipython3",
   "version": "3.13.5"
  }
 },
 "nbformat": 4,
 "nbformat_minor": 5
}
