{
 "cells": [
  {
   "cell_type": "markdown",
   "id": "e59ca47f",
   "metadata": {},
   "source": [
    "Práctico 3: Estructuras condicionales"
   ]
  },
  {
   "cell_type": "markdown",
   "id": "2c0be445",
   "metadata": {},
   "source": [
    "Ejercicio Nº1.\n",
    "Escribir un programa que solicite la edad del usuario. Si el usuario es mayor de 18 años, deberá mostrar un mensaje en pantalla que diga “Es mayor de edad”."
   ]
  },
  {
   "cell_type": "code",
   "execution_count": 2,
   "id": "8862a444",
   "metadata": {},
   "outputs": [],
   "source": [
    "edad = int(input(\"Ingrese su edad: \"));\n",
    "if edad > 18:\n",
    "    print(\"Es mayor de edad\");"
   ]
  },
  {
   "cell_type": "markdown",
   "id": "70767031",
   "metadata": {},
   "source": [
    "Ejercicio Nº2. Escribir un programa que solicite su nota al usuario. Si la nota es mayor o igual a 6, deberá mostrar por pantalla un mensaje que diga “Aprobado”; en caso contrario deberá mostrar el mensaje “Desaprobado”."
   ]
  },
  {
   "cell_type": "code",
   "execution_count": null,
   "id": "16171292",
   "metadata": {},
   "outputs": [],
   "source": [
    "nota = float(input(\"Ingrese su nota: \"));\n",
    "if nota >= 6:\n",
    "    print(\"Aprobado\");\n",
    "else:\n",
    "    print(\"Desaprobado\");"
   ]
  }
 ],
 "metadata": {
  "kernelspec": {
   "display_name": "Python 3",
   "language": "python",
   "name": "python3"
  },
  "language_info": {
   "codemirror_mode": {
    "name": "ipython",
    "version": 3
   },
   "file_extension": ".py",
   "mimetype": "text/x-python",
   "name": "python",
   "nbconvert_exporter": "python",
   "pygments_lexer": "ipython3",
   "version": "3.13.5"
  }
 },
 "nbformat": 4,
 "nbformat_minor": 5
}
